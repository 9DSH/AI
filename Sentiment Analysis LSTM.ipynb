{
 "cells": [
  {
   "cell_type": "code",
   "execution_count": null,
   "id": "98b4d4ae",
   "metadata": {},
   "outputs": [],
   "source": [
    "import numpy as np\n",
    "import pandas as pd\n",
    "import matplotlib.pyplot as plt\n",
    "from sklearn.model_selection import train_test_split\n",
    "import re\n",
    "import os\n",
    "from keras.models import Sequential , load_model\n",
    "from keras.layers import LSTM , Dense , Embedding , Dropout\n",
    "from keras.preprocessing.text import Tokenizer\n",
    "from keras.preprocessing.sequence import pad_sequences\n",
    "%matplotlib inline"
   ]
  },
  {
   "cell_type": "code",
   "execution_count": null,
   "id": "a031085f",
   "metadata": {},
   "outputs": [],
   "source": [
    "dataset = pd.read_csv(r'C:\\Users\\surface\\My Jupyter\\Tweets.csv')\n",
    "dataset = dataset.sample(frac=1).reset_index(drop=True)\n",
    "dataset.head()"
   ]
  },
  {
   "cell_type": "code",
   "execution_count": null,
   "id": "fa17772b",
   "metadata": {},
   "outputs": [],
   "source": [
    "dataset = dataset[['airline_sentiment','text']]\n",
    "Newdataset = dataset\n",
    "dataset.head()"
   ]
  },
  {
   "cell_type": "code",
   "execution_count": null,
   "id": "2eec5aae",
   "metadata": {},
   "outputs": [],
   "source": [
    "dataset['text'].apply(lambda x: x.lower())\n",
    "\n",
    "dataset['text'].apply(lambda x: re.sub('[^a-zA-Z0-9\\s]',\" \",x))\n",
    "dataset['text'].head()"
   ]
  },
  {
   "cell_type": "code",
   "execution_count": null,
   "id": "7f11c2e9",
   "metadata": {
    "scrolled": true
   },
   "outputs": [],
   "source": [
    "tokenizer = Tokenizer(num_words=5000, split=\" \")\n",
    "tokenizer.fit_on_texts(dataset['text'].values)\n",
    "\n",
    "X =tokenizer.texts_to_sequences(dataset['text'].values)\n",
    "X = pad_sequences(X)\n",
    "X[:7]\n",
    "# for word in tokenizer.word_index:\n",
    " #   print (word)"
   ]
  },
  {
   "cell_type": "code",
   "execution_count": null,
   "id": "2ed3d79b",
   "metadata": {},
   "outputs": [],
   "source": [
    "X.shape"
   ]
  },
  {
   "cell_type": "code",
   "execution_count": null,
   "id": "fdd67369",
   "metadata": {},
   "outputs": [],
   "source": [
    "model = Sequential()\n",
    "model.add(Embedding(5000, 256 ,input_length = X.shape[1]))\n",
    "model.add(Dropout(0.3))\n",
    "model.add(LSTM(256 ,  return_sequences=True , dropout = 0.3 , recurrent_dropout = 0.2))\n",
    "model.add(LSTM(256 , dropout = 0.3 , recurrent_dropout = 0.2))\n",
    "model.add(Dense(3 , activation = 'softmax'))  # 3 because we have 3 output Negetive, Positive, Natural"
   ]
  },
  {
   "cell_type": "code",
   "execution_count": null,
   "id": "eb12d2d6",
   "metadata": {},
   "outputs": [],
   "source": [
    "model.compile(loss = 'categorical_crossentropy' , optimizer = 'adam', metrics = 'accuracy')\n",
    "model.summary()"
   ]
  },
  {
   "cell_type": "code",
   "execution_count": null,
   "id": "fa007f13",
   "metadata": {},
   "outputs": [],
   "source": [
    "y = pd.get_dummies(dataset['airline_sentiment']).values\n",
    "[print(dataset['airline_sentiment'][i], y[i]) for i in range(0,7)]"
   ]
  },
  {
   "cell_type": "code",
   "execution_count": null,
   "id": "40bd23a2",
   "metadata": {},
   "outputs": [],
   "source": [
    "X_train , X_test , y_train , y_test = train_test_split(X,y , test_size = 0.2 , random_state =0)"
   ]
  },
  {
   "cell_type": "code",
   "execution_count": null,
   "id": "0191da79",
   "metadata": {},
   "outputs": [],
   "source": [
    "batch_size = 32\n",
    "epochs = 10\n",
    "if (not os.path.exists(r'C:\\Users\\surface\\My Jupyter\\Model_Sentiment.h5')) :\n",
    "    res = model.fit(X_train,y_train , epochs = epochs , batch_size = batch_size , verbose = 2)  #verbose if we want to print output of result\n",
    "    model.save(r'C:\\Users\\surface\\My Jupyter\\Model_Sentiment.h5')"
   ]
  },
  {
   "cell_type": "code",
   "execution_count": null,
   "id": "77ed5b63",
   "metadata": {},
   "outputs": [],
   "source": [
    "model_res = load_model(r'C:\\Users\\surface\\My Jupyter\\Model_Sentiment.h5')"
   ]
  },
  {
   "cell_type": "code",
   "execution_count": null,
   "id": "49766cee",
   "metadata": {},
   "outputs": [],
   "source": [
    "loss, acc = model_res.evaluate(X, y, verbose=0)\n",
    "print( 'loss: %f, acc: %f' % (loss, acc*100))"
   ]
  },
  {
   "cell_type": "code",
   "execution_count": null,
   "id": "5f6cebc1",
   "metadata": {
    "scrolled": true
   },
   "outputs": [],
   "source": [
    "predictions = model.predict(X_test)\n",
    "\n",
    "[print(dataset['text'][i], predictions[i] , y_test[i]) for i in range(0,10)]"
   ]
  },
  {
   "cell_type": "code",
   "execution_count": null,
   "id": "eaf81c39",
   "metadata": {},
   "outputs": [],
   "source": [
    "predictions.shape"
   ]
  },
  {
   "cell_type": "code",
   "execution_count": null,
   "id": "e119ce4f",
   "metadata": {},
   "outputs": [],
   "source": [
    "# A few random samples\n",
    "samples_to_predict = []\n",
    "newsamples = [\"@Hamed I am glad that I used your services\"]\n"
   ]
  },
  {
   "cell_type": "code",
   "execution_count": null,
   "id": "e4d3b9b1",
   "metadata": {},
   "outputs": [],
   "source": [
    "sample = pd.Series(newsamples)\n",
    "sample"
   ]
  },
  {
   "cell_type": "code",
   "execution_count": null,
   "id": "e11c5572",
   "metadata": {},
   "outputs": [],
   "source": [
    "sample = pd.Series(newsamples)\n",
    "pd = Newdataset['text'].append(sample , ignore_index=True)\n",
    "pd"
   ]
  },
  {
   "cell_type": "code",
   "execution_count": null,
   "id": "7b0ceeb2",
   "metadata": {},
   "outputs": [],
   "source": [
    "pd.apply(lambda x: x.lower())\n",
    "pd.apply(lambda x: re.sub('[^a-zA-Z0-9\\s]',\" \",x))\n",
    "pd.values[-1]"
   ]
  },
  {
   "cell_type": "code",
   "execution_count": null,
   "id": "ee941ca2",
   "metadata": {},
   "outputs": [],
   "source": [
    "tokenizer = Tokenizer(num_words=5000, split=\" \")\n",
    "tokenizer.fit_on_texts(pd.values)\n",
    "\n",
    "X =tokenizer.texts_to_sequences(pd.values)\n",
    "X = pad_sequences(X)\n",
    "NewData = X[-1]\n",
    "NewData"
   ]
  },
  {
   "cell_type": "code",
   "execution_count": null,
   "id": "8fe42cd4",
   "metadata": {},
   "outputs": [],
   "source": [
    "NewData.reshape(1,34)"
   ]
  },
  {
   "cell_type": "code",
   "execution_count": null,
   "id": "d5bce59b",
   "metadata": {},
   "outputs": [],
   "source": [
    "NewData.shape"
   ]
  },
  {
   "cell_type": "code",
   "execution_count": null,
   "id": "0a3cff01",
   "metadata": {},
   "outputs": [],
   "source": [
    "prediction = model.predict(NewData)\n",
    "print(prediction) "
   ]
  },
  {
   "cell_type": "code",
   "execution_count": null,
   "id": "0c15de97",
   "metadata": {},
   "outputs": [],
   "source": [
    "predictions.shape"
   ]
  },
  {
   "cell_type": "code",
   "execution_count": null,
   "id": "b3d947f4",
   "metadata": {},
   "outputs": [],
   "source": []
  }
 ],
 "metadata": {
  "kernelspec": {
   "display_name": "Python 3 (ipykernel)",
   "language": "python",
   "name": "python3"
  },
  "language_info": {
   "codemirror_mode": {
    "name": "ipython",
    "version": 3
   },
   "file_extension": ".py",
   "mimetype": "text/x-python",
   "name": "python",
   "nbconvert_exporter": "python",
   "pygments_lexer": "ipython3",
   "version": "3.11.2"
  }
 },
 "nbformat": 4,
 "nbformat_minor": 5
}
