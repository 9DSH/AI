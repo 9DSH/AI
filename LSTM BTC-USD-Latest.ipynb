{
 "cells": [
  {
   "cell_type": "code",
   "execution_count": null,
   "metadata": {},
   "outputs": [],
   "source": [
    "import numpy as np\n",
    "import pandas as pd\n",
    "from sklearn.preprocessing import MinMaxScaler\n",
    "from tensorflow.keras.models import Sequential ,load_model\n",
    "from tensorflow.keras.layers import LSTM,Dense,Dropout\n",
    "import os\n",
    "\n",
    "import matplotlib.pyplot as plt\n",
    "%matplotlib inline\n",
    "plt.style.use('ggplot')"
   ]
  },
  {
   "cell_type": "code",
   "execution_count": null,
   "metadata": {
    "scrolled": false
   },
   "outputs": [],
   "source": [
    "df = pd.read_csv(r'C:\\Users\\HAMED\\miniconda3\\MyCSV-FX\\BTC-3years.csv')\n",
    "df.head()"
   ]
  },
  {
   "cell_type": "code",
   "execution_count": null,
   "metadata": {},
   "outputs": [],
   "source": [
    "df['Close'] = df[['Close']].apply(lambda x: x.str.replace(',', '.').astype(float), axis=1)\n",
    "df = df.set_index(\"Date\")[['Close']]\n",
    "df = df.set_index(pd.to_datetime(df.index))\n",
    "df = df[::-1]\n",
    "df.head()"
   ]
  },
  {
   "cell_type": "code",
   "execution_count": null,
   "metadata": {},
   "outputs": [],
   "source": [
    "scaler = MinMaxScaler()\n",
    "df = pd.DataFrame(scaler.fit_transform(df), columns = df.columns , index = df.index)\n",
    "df.head()"
   ]
  },
  {
   "cell_type": "code",
   "execution_count": null,
   "metadata": {},
   "outputs": [],
   "source": [
    "df.plot(figsize=(18,8))\n",
    "plt.title('BTC Prices')\n",
    "plt.ylabel('Normalised Prices')\n",
    "plt.show()"
   ]
  },
  {
   "cell_type": "code",
   "execution_count": null,
   "metadata": {},
   "outputs": [],
   "source": [
    "def split_sequences(seq, n_steps_in , n_steps_out):  # X = inputs / Y = results\n",
    "    X,y = [],[]\n",
    "    for i in range(len(seq)):\n",
    "        end = i + n_steps_in\n",
    "        out_end = end + n_steps_out\n",
    "        \n",
    "        \n",
    "        if out_end > len(seq):\n",
    "            break\n",
    "            \n",
    "        seq_x ,seq_y = seq[i:end] , seq[end:out_end]\n",
    "    \n",
    "        X.append(seq_x)\n",
    "        y.append(seq_y)\n",
    "    \n",
    "    return np.array(X) , np.array(y)"
   ]
  },
  {
   "cell_type": "code",
   "execution_count": null,
   "metadata": {},
   "outputs": [],
   "source": [
    "def visualize_results(results):\n",
    "    history = results.history\n",
    "    plt.figure(figsize=(12,4))\n",
    "    plt.plot(history['val_loss'])\n",
    "    plt.plot(history['loss'])\n",
    "    plt.legend(['val_loss','loss'])\n",
    "    plt.title('loss')\n",
    "    plt.xlabel('Epoches')\n",
    "    plt.ylabel('loss')\n",
    "    plt.show()\n",
    "    \n",
    "    history = results.history\n",
    "    plt.figure(figsize=(12,4))\n",
    "    plt.plot(history['val_acc'])\n",
    "    plt.plot(history['acc'])\n",
    "    plt.legend(['val_acc','acc'])\n",
    "    plt.title('accuracy')\n",
    "    plt.xlabel('Epochs')\n",
    "    plt.ylabel('accuracy')\n",
    "    plt.show()"
   ]
  },
  {
   "cell_type": "code",
   "execution_count": null,
   "metadata": {},
   "outputs": [],
   "source": [
    "n_per_in = 30\n",
    "n_per_out = 10\n",
    "n_features = 1\n",
    "\n",
    "X,y = split_sequences(list(df.Close), n_per_in ,n_per_out )\n",
    "\n",
    "print(X.shape)\n",
    "\n",
    "X = X.reshape(X.shape[0],X.shape[1],n_features)\n",
    "\n",
    "print(X.shape)"
   ]
  },
  {
   "cell_type": "code",
   "execution_count": null,
   "metadata": {},
   "outputs": [],
   "source": [
    "model = Sequential()\n",
    "model.add(LSTM(96 , return_sequences=True, input_shape=(n_per_in,n_features)))\n",
    "model.add(LSTM(96, return_sequences=True)) #hidden layer\n",
    "model.add(LSTM(96, return_sequences=True)) #hidden layer\n",
    "model.add(LSTM(96, return_sequences=True)) #hidden layer\n",
    "model.add(LSTM(96, return_sequences=True)) #hidden layer\n",
    "model.add(LSTM(96, return_sequences=True)) #hidden layer\n",
    "model.add(LSTM(96, return_sequences=True)) #hidden layer\n",
    "model.add(LSTM(96, return_sequences=True)) #hidden layer\n",
    "model.add(LSTM(96, return_sequences=True)) #hidden layer\n",
    "model.add(LSTM(96, return_sequences=True)) #hidden layer\n",
    "model.add(LSTM(96, return_sequences=True)) #hidden layer\n",
    "model.add(LSTM(96 ))   #output layer\n",
    "model.add(Dense(n_per_out, activation ='sigmoid')) #should have the same amount as we want to predict\n",
    "\n",
    "model.summary()"
   ]
  },
  {
   "cell_type": "code",
   "execution_count": null,
   "metadata": {},
   "outputs": [],
   "source": [
    "model.compile(optimizer='adam', loss='mse', metrics=['acc'])  #MSE is a numerical feature"
   ]
  },
  {
   "cell_type": "code",
   "execution_count": null,
   "metadata": {},
   "outputs": [],
   "source": [
    "if (not os.path.exists(r'C:\\Users\\HAMED\\miniconda3\\myLSTMNN\\prediction_BTC_2h.h5')) :\n",
    "    res = model.fit(X,y, epochs=2000 ,batch_size=327, validation_split=0.33)\n",
    "    model.save(r'C:\\Users\\HAMED\\miniconda3\\myLSTMNN\\prediction_BTC_2h.h5')"
   ]
  },
  {
   "cell_type": "code",
   "execution_count": null,
   "metadata": {},
   "outputs": [],
   "source": [
    "model_res = load_model(r'C:\\Users\\HAMED\\miniconda3\\myLSTMNN\\prediction_BTC_2h.h5')"
   ]
  },
  {
   "cell_type": "code",
   "execution_count": null,
   "metadata": {},
   "outputs": [],
   "source": [
    "loss, acc = model_res.evaluate(X, y, verbose=0)\n",
    "print( 'loss: %f, acc: %f' % (loss, acc*100))"
   ]
  },
  {
   "cell_type": "code",
   "execution_count": null,
   "metadata": {},
   "outputs": [],
   "source": [
    "visualize_results(res)"
   ]
  },
  {
   "cell_type": "code",
   "execution_count": null,
   "metadata": {},
   "outputs": [],
   "source": [
    "plt.figure(figsize=(12,4))\n",
    "\n",
    "yhat = model.predict(X[-1].reshape(1,n_per_in,n_features)).tolist()[0]\n",
    "\n",
    "yhat =scaler.inverse_transform(np.array(yhat).reshape(-1,1)).tolist()\n",
    "\n",
    "actual =scaler.inverse_transform(y[-1].reshape(-1,1))\n",
    "\n",
    "print('predicted' , yhat)\n",
    "plt.plot(yhat , label='predicted')\n",
    "\n",
    "print('actual', actual.tolist())\n",
    "\n",
    "plt.plot(actual.tolist(), label='actual')\n",
    "\n",
    "plt.title('Predicted vs Actual')\n",
    "plt.ylabel('Price')\n",
    "plt.legend()\n",
    "plt.show()"
   ]
  },
  {
   "cell_type": "code",
   "execution_count": null,
   "metadata": {},
   "outputs": [],
   "source": [
    "yhat = model.predict(np.array(df.tail(n_per_in)).reshape(1,n_per_in,n_features)).tolist()\n",
    "yhat = scaler.inverse_transform(np.array(yhat).reshape(-1,1)).tolist()\n",
    "\n",
    "preds = pd.DataFrame(yhat , index= pd.date_range(start=df.index[-1], periods=len(yhat), freq=\"D\"), columns=df.columns)\n",
    "\n",
    "print(preds)\n",
    "\n",
    "periods = 10\n",
    "\n",
    "actual = pd.DataFrame(scaler.inverse_transform(df[['Close']].tail(periods)) , index = df.Close.tail(periods).index, columns=df.columns).append(preds.head(1))\n",
    "\n",
    "plt.figure(figsize=(12,4))\n",
    "plt.plot(actual , label = \"actual price\")\n",
    "plt.plot(preds , label=\"predicted price\")\n",
    "\n",
    "\n",
    "plt.ylabel('price')\n",
    "plt.xlabel('Date')\n",
    "\n",
    "plt.legend()\n",
    "plt.show()"
   ]
  },
  {
   "cell_type": "code",
   "execution_count": null,
   "metadata": {},
   "outputs": [],
   "source": []
  }
 ],
 "metadata": {
  "kernelspec": {
   "display_name": "Python 3 (ipykernel)",
   "language": "python",
   "name": "python3"
  },
  "language_info": {
   "codemirror_mode": {
    "name": "ipython",
    "version": 3
   },
   "file_extension": ".py",
   "mimetype": "text/x-python",
   "name": "python",
   "nbconvert_exporter": "python",
   "pygments_lexer": "ipython3",
   "version": "3.11.2"
  }
 },
 "nbformat": 4,
 "nbformat_minor": 4
}
